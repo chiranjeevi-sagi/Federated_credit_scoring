{
 "cells": [
  {
   "cell_type": "markdown",
   "id": "587733a5",
   "metadata": {},
   "source": [
    "# Federated learning for credit scoring"
   ]
  },
  {
   "cell_type": "markdown",
   "id": "e69ca3e3",
   "metadata": {},
   "source": [
    "Investigating privacy, performance and computational overhead of the credit scoring machine learning model using federated learning."
   ]
  },
  {
   "cell_type": "code",
   "execution_count": 1,
   "id": "978ab810",
   "metadata": {},
   "outputs": [],
   "source": [
    "import pandas as pd\n",
    "import numpy as np\n",
    "\n",
    "url = 'https://archive.ics.uci.edu/ml/machine-learning-databases/00350/default%20of%20credit%20card%20clients.xls'\n",
    "\n",
    "df = pd.read_excel(url, header=1)\n",
    "df = df.drop(['ID'], axis=1)\n",
    "df = df.rename(columns={'default payment next month': 'label'})\n"
   ]
  },
  {
   "cell_type": "code",
   "execution_count": null,
   "id": "cdd19679",
   "metadata": {},
   "outputs": [],
   "source": []
  }
 ],
 "metadata": {
  "kernelspec": {
   "display_name": "Python 3 (ipykernel)",
   "language": "python",
   "name": "python3"
  },
  "language_info": {
   "codemirror_mode": {
    "name": "ipython",
    "version": 3
   },
   "file_extension": ".py",
   "mimetype": "text/x-python",
   "name": "python",
   "nbconvert_exporter": "python",
   "pygments_lexer": "ipython3",
   "version": "3.10.6"
  }
 },
 "nbformat": 4,
 "nbformat_minor": 5
}
